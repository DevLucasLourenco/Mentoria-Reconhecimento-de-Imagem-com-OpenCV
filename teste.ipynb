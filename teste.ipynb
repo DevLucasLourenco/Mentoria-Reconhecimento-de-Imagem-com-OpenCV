{
 "cells": [
  {
   "cell_type": "code",
   "execution_count": 1,
   "metadata": {},
   "outputs": [
    {
     "name": "stdout",
     "output_type": "stream",
     "text": [
      "2.449489742783178\n"
     ]
    }
   ],
   "source": [
    "import math\n",
    "FORMULA_DISTANCIA_ENTRE_DOIS_PONTOS_EUCLIDIANA_X_Y = lambda x1,x2,y1,y2,z1,z2: math.sqrt((x2-x1)**2 + (y2-y1)**2 + (z2-z1)**2) # Distância entre dois pontos com dois eixos, X, Y e Z\n",
    "\n",
    "\n",
    "res = FORMULA_DISTANCIA_ENTRE_DOIS_PONTOS_EUCLIDIANA_X_Y(2,3,4,5,8,10)\n",
    "print(res)\n"
   ]
  }
 ],
 "metadata": {
  "kernelspec": {
   "display_name": "Python 3",
   "language": "python",
   "name": "python3"
  },
  "language_info": {
   "codemirror_mode": {
    "name": "ipython",
    "version": 3
   },
   "file_extension": ".py",
   "mimetype": "text/x-python",
   "name": "python",
   "nbconvert_exporter": "python",
   "pygments_lexer": "ipython3",
   "version": "3.11.6"
  }
 },
 "nbformat": 4,
 "nbformat_minor": 2
}
